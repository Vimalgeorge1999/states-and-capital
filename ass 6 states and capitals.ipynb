{
 "cells": [
  {
   "cell_type": "code",
   "execution_count": 4,
   "id": "0c55f9ac",
   "metadata": {},
   "outputs": [
    {
     "name": "stdout",
     "output_type": "stream",
     "text": [
      "json file generated\n"
     ]
    }
   ],
   "source": [
    "import json\n",
    "capital_states={\"kerala\":\"Trivandrum\",\"Karnataka\":\"Bengaluru\",\"Madhyapradesh\":\"bhopal\",\"Mahsrashtra\":\"mumbai\",\"Tamilnadu\":\"chennai\",\"Telengana\":\"Hyderabad\",\"Uttar_pradesh\":\"Lucknow\",\"West_bengal\":\"Kolkata\"}\n",
    "with open (\"capital_states.json\",\"w\") as f:\n",
    "               json.dump(capital_states,f,indent=3)\n",
    "               print(\"json file generated\")"
   ]
  }
 ],
 "metadata": {
  "kernelspec": {
   "display_name": "Python 3 (ipykernel)",
   "language": "python",
   "name": "python3"
  },
  "language_info": {
   "codemirror_mode": {
    "name": "ipython",
    "version": 3
   },
   "file_extension": ".py",
   "mimetype": "text/x-python",
   "name": "python",
   "nbconvert_exporter": "python",
   "pygments_lexer": "ipython3",
   "version": "3.9.13"
  }
 },
 "nbformat": 4,
 "nbformat_minor": 5
}
